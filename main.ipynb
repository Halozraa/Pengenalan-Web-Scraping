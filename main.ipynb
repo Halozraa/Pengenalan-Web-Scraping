{
 "cells": [
  {
   "cell_type": "markdown",
   "metadata": {},
   "source": [
    "Mengirim Permintaan HTTP dengan Requests"
   ]
  },
  {
   "cell_type": "code",
   "execution_count": null,
   "metadata": {},
   "outputs": [],
   "source": [
    "import requests\n",
    "\n",
    "# Mengirim permintaan HTTP GET ke URL\n",
    "url = 'https://www.kaggle.com/datasets/zeesolver/spotfy'\n",
    "response = requests.get(url)\n",
    "\n",
    "# Mengecek status kode permintaan\n",
    "print(f'Status Kode: {response.status_code}')\n",
    "\n",
    "# Menampilkan konten HTML dari halaman\n",
    "print(response.text)\n"
   ]
  },
  {
   "cell_type": "markdown",
   "metadata": {},
   "source": [
    "Mem-parsing HTML dengan BeautifulSoup and Menangani Permintaan yang Gagal\n"
   ]
  },
  {
   "cell_type": "code",
   "execution_count": null,
   "metadata": {},
   "outputs": [],
   "source": [
    "from bs4 import BeautifulSoup\n",
    "\n",
    "try:\n",
    "    response = requests.get(url)\n",
    "    response.raise_for_status()  # Memicu error jika status kode bukan 200\n",
    "except requests.exceptions.HTTPError as http_err:\n",
    "    print(f'HTTP error occurred: {http_err}')\n",
    "except Exception as err:\n",
    "    print(f'Other error occurred: {err}')\n",
    "else:\n",
    "    html_content = response.text\n",
    "    soup = BeautifulSoup(html_content, 'html.parser')\n",
    "    # Lanjutkan dengan parsing dan ekstraksi data\n",
    "\n",
    "\n",
    "# Menampilkan konten HTML yang sudah diparsing\n",
    "print(soup.prettify())\n"
   ]
  },
  {
   "cell_type": "markdown",
   "metadata": {},
   "source": [
    "Mengekstrak Data dari HTML"
   ]
  },
  {
   "cell_type": "code",
   "execution_count": null,
   "metadata": {},
   "outputs": [],
   "source": [
    "# Menemukan semua tag <a> di halaman\n",
    "links = soup.find_all('a')\n",
    "\n",
    "# Menampilkan semua link\n",
    "for link in links:\n",
    "    print(link.get('href'))\n"
   ]
  },
  {
   "cell_type": "markdown",
   "metadata": {},
   "source": [
    "Mengekstrak Elemen Spesifik"
   ]
  },
  {
   "cell_type": "code",
   "execution_count": null,
   "metadata": {},
   "outputs": [],
   "source": [
    "# Menemukan semua tag <p> di halaman\n",
    "paragraphs = soup.find_all('p')\n",
    "\n",
    "# Menampilkan semua paragraf\n",
    "for para in paragraphs:\n",
    "    print(para.get_text())\n"
   ]
  },
  {
   "cell_type": "markdown",
   "metadata": {},
   "source": [
    "Mengekstrak Heading Spesifik"
   ]
  },
  {
   "cell_type": "code",
   "execution_count": null,
   "metadata": {},
   "outputs": [],
   "source": [
    "# Menemukan tag <h1>\n",
    "heading1 = soup.find('h1')\n",
    "\n",
    "# Menampilkan teks di dalam tag <h1>\n",
    "if heading1:\n",
    "    print(heading1.get_text())\n"
   ]
  },
  {
   "cell_type": "markdown",
   "metadata": {},
   "source": [
    "Mengekstrak Elemen dengan Kelas atau ID Tertentu"
   ]
  },
  {
   "cell_type": "code",
   "execution_count": null,
   "metadata": {},
   "outputs": [],
   "source": [
    "# Menemukan elemen dengan kelas tertentu\n",
    "elements_with_class = soup.find_all(class_='example-class')\n",
    "\n",
    "# Menampilkan teks di dalam elemen dengan kelas tertentu\n",
    "for elem in elements_with_class:\n",
    "    print(elem.get_text())\n",
    "\n",
    "# Menemukan elemen dengan ID tertentu\n",
    "element_with_id = soup.find(id='example-id')\n",
    "\n",
    "# Menampilkan teks di dalam elemen dengan ID tertentu\n",
    "if element_with_id:\n",
    "    print(element_with_id.get_text())\n"
   ]
  },
  {
   "cell_type": "markdown",
   "metadata": {},
   "source": [
    "Menyimpan Data yang Diekstrak ke dalam File\n"
   ]
  },
  {
   "cell_type": "code",
   "execution_count": null,
   "metadata": {},
   "outputs": [],
   "source": [
    "# Menyimpan semua URL ke dalam file teks\n",
    "with open('urls.txt', 'w') as file:\n",
    "    for link in links:\n",
    "        href = link.get('href')\n",
    "        if href:\n",
    "            file.write(href + '\\n')\n"
   ]
  }
 ],
 "metadata": {
  "kernelspec": {
   "display_name": "Python 3",
   "language": "python",
   "name": "python3"
  },
  "language_info": {
   "codemirror_mode": {
    "name": "ipython",
    "version": 3
   },
   "file_extension": ".py",
   "mimetype": "text/x-python",
   "name": "python",
   "nbconvert_exporter": "python",
   "pygments_lexer": "ipython3",
   "version": "3.12.2"
  }
 },
 "nbformat": 4,
 "nbformat_minor": 2
}
